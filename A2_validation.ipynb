{
 "cells": [
  {
   "cell_type": "markdown",
   "metadata": {},
   "source": [
    "# 모델 검증을 위한 k-fold cross validation 실시"
   ]
  },
  {
   "cell_type": "code",
   "execution_count": null,
   "metadata": {},
   "outputs": [],
   "source": [
    "# 분석용 데이터는 A1문제의 전처리 과정을 똑같이 거침"
   ]
  },
  {
   "cell_type": "code",
   "execution_count": null,
   "metadata": {},
   "outputs": [],
   "source": [
    "from sklearn.model_selection import cross_val_score, KFold, StratifiedShuffleSplit\n",
    "from sklearn.linear_model import LogisticRegression\n",
    "\n",
    "import warnings\n",
    "\n",
    "warnings.simplefilter(\"ignore\")\n",
    "\n",
    "kfold = KFold(n_splits=10)\n",
    "stratified_shuffle_split = StratifiedShuffleSplit(train_size=0.7,test_size=0.3,n_splits=10,random_state=0)\n",
    "\n",
    "logreg = LogisticRegression()\n",
    "\n",
    "scores = cross_val_score(logreg, x_train, y_train)\n",
    "print(\"k-5 cross validation score : {}\".format(scores))\n",
    "\n",
    "scores_k10 = cross_val_score(logreg, x_train, y_train, cv=kfold)\n",
    "print(\"k-10 cross validation score : {}\".format(scores_k10))\n",
    "\n",
    "print(\"k-fold cross validation mean score : {}\".format(scores.mean()))\n",
    "\n",
    "scores_shuffle = cross_val_score(logreg, x_train, y_train, cv=stratified_shuffle_split)\n",
    "print(\"shuffle cross validation score : {}\".format(scores_shuffle))\n",
    "\n",
    "\n",
    "# 결과 :\n",
    "# k-5 cross validation score : [0.99701865 0.99701865 0.99701865 0.99701865 0.99698398]\n",
    "# k-10 cross validation score : [0.99611731 0.99486931 1.         0.98966928 0.99604798 1.\n",
    "#  1.         0.99604798 0.99868266 0.99868266]\n",
    "# k-fold cross validation mean score : 0.9970117173958262\n",
    "# shuffle cross validation score : [0.99701865 0.99701865 0.99701865 0.99701865 0.99701865 0.99701865\n",
    "#  0.99701865 0.99701865 0.99701865 0.99701865]"
   ]
  }
 ],
 "metadata": {
  "kernelspec": {
   "display_name": "[fHack]",
   "language": "python",
   "name": "fhack"
  },
  "language_info": {
   "codemirror_mode": {
    "name": "ipython",
    "version": 3
   },
   "file_extension": ".py",
   "mimetype": "text/x-python",
   "name": "python",
   "nbconvert_exporter": "python",
   "pygments_lexer": "ipython3",
   "version": "3.6.10"
  }
 },
 "nbformat": 4,
 "nbformat_minor": 2
}
