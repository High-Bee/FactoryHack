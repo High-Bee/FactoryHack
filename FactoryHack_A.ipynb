{
  "nbformat": 4,
  "nbformat_minor": 0,
  "metadata": {
    "colab": {
      "name": "FactoryHack_A.ipynb",
      "provenance": [],
      "collapsed_sections": []
    },
    "kernelspec": {
      "name": "python3",
      "display_name": "Python 3"
    },
    "accelerator": "GPU"
  },
  "cells": [
    {
      "cell_type": "code",
      "metadata": {
        "id": "cpaTbcIYbIRf",
        "colab_type": "code",
        "outputId": "e19f26d3-74d1-42d7-8be5-a81795b9ecbc",
        "colab": {
          "base_uri": "https://localhost:8080/",
          "height": 125
        }
      },
      "source": [
        "from google.colab import drive\n",
        "drive.mount('/content/drive')"
      ],
      "execution_count": 1,
      "outputs": [
        {
          "output_type": "stream",
          "text": [
            "Go to this URL in a browser: https://accounts.google.com/o/oauth2/auth?client_id=947318989803-6bn6qk8qdgf4n4g3pfee6491hc0brc4i.apps.googleusercontent.com&redirect_uri=urn%3aietf%3awg%3aoauth%3a2.0%3aoob&response_type=code&scope=email%20https%3a%2f%2fwww.googleapis.com%2fauth%2fdocs.test%20https%3a%2f%2fwww.googleapis.com%2fauth%2fdrive%20https%3a%2f%2fwww.googleapis.com%2fauth%2fdrive.photos.readonly%20https%3a%2f%2fwww.googleapis.com%2fauth%2fpeopleapi.readonly\n",
            "\n",
            "Enter your authorization code:\n",
            "··········\n",
            "Mounted at /content/drive\n"
          ],
          "name": "stdout"
        }
      ]
    },
    {
      "cell_type": "code",
      "metadata": {
        "id": "0HD2TVsRbAlr",
        "colab_type": "code",
        "colab": {}
      },
      "source": [
        "## 필요 module load\n",
        "import pandas as pd\n",
        "import numpy as np\n",
        "import tensorflow as tf\n",
        "import matplotlib.pyplot as plt\n",
        "from sklearn.preprocessing import MinMaxScaler\n",
        "import datetime"
      ],
      "execution_count": 0,
      "outputs": []
    },
    {
      "cell_type": "code",
      "metadata": {
        "id": "7zWl4APPbrGO",
        "colab_type": "code",
        "colab": {}
      },
      "source": [
        "## 데이터 load\n",
        "a_train_origin = pd.read_csv(\"/content/drive/My Drive/DataForColab/A_train.csv\")\n",
        "a_test_origin = pd.read_csv(\"/content/drive/My Drive/DataForColab/A_test.csv\")\n",
        "a_train_set = a_train_origin.copy()\n",
        "a_test_set =  a_test_origin.copy()"
      ],
      "execution_count": 0,
      "outputs": []
    },
    {
      "cell_type": "code",
      "metadata": {
        "id": "aeZ929phEd_E",
        "colab_type": "code",
        "colab": {}
      },
      "source": [
        "## 42개 null값 처리 후 필요 set 추출\n",
        "a_train_set = a_train_set.fillna(0)\n",
        "\n",
        "a_train_1 = a_train_set.loc[a_train_set[\"op_end\"]>0,:]\n",
        "a_test_1 = a_test_set.loc[a_train_set[\"op_end\"]>0,:]\n",
        "\n",
        "y_train_data = a_train_1[\"op_result\"]\n",
        "x_train_data = a_train_1.iloc[:,24:47]\n"
      ],
      "execution_count": 0,
      "outputs": []
    },
    {
      "cell_type": "code",
      "metadata": {
        "id": "YU9kc2aIiTAT",
        "colab_type": "code",
        "colab": {}
      },
      "source": [
        "## train data set 전처리 (공장 가동중에 대한 데이터 추출)\n",
        "sp_df = a_train_set[((a_train_set[\"op_start\"]==1) | (a_train_set[\"op_end\"]==1)) ==True]\n",
        "sp_df\n",
        "sp_x_df = sp_df.iloc[:,24:47]\n",
        "sp_y_df = sp_df.loc[:,[\"op_start\",\"op_end\",\"op_result\"]]"
      ],
      "execution_count": 0,
      "outputs": []
    },
    {
      "cell_type": "code",
      "metadata": {
        "id": "nJZwqZ6l8J3o",
        "colab_type": "code",
        "colab": {}
      },
      "source": [
        "## predict용 test data set 전처리\n",
        "pp_df = a_test_set[((a_test_set[\"op_start\"]==1) | (a_test_set[\"op_end\"]==1)) ==True]\n",
        "pp_x_df=pp_df.loc[:,[\"seq\",\"d15\",\"d16\",\"d17\",\"d18\",\"d19\",\"d20\",\"d21\",\"d22\",\"d23\",\"d24\",\"d25\",\"d26\",\"d27\",\"d28\",\"d29\",\"d30\",\"d31\",\"d32\",\"d33\",\"d34\",\"d35\",\"d36\",\"d37\"]]"
      ],
      "execution_count": 0,
      "outputs": []
    },
    {
      "cell_type": "code",
      "metadata": {
        "id": "YNRm1y1CnaZq",
        "colab_type": "code",
        "outputId": "a8df9399-c1ae-4199-d047-7e0433e93e9f",
        "colab": {
          "base_uri": "https://localhost:8080/",
          "height": 263
        }
      },
      "source": [
        "## 양품 / 불량품에 대한 그룹핑 (가동 중 result값을 불량품일때 0으로 처리 / 양품일때 1로 처리)\n",
        "a_train_set.iloc[:,24:47].sum()\n",
        "n = 0\n",
        "for i in range(int(len(sp_y_df))):\n",
        "    \n",
        "    if (sp_y_df.op_end[i:i+1].item() == 1) and (sp_y_df.op_result[i:i+1].item() == 0):\n",
        "        sp_y_df.op_result[n:i] = 0    \n",
        "        n = i\n",
        "    elif (sp_y_df.op_end[i:i+1].item() == 1) and (sp_y_df.op_result[i:i+1].item() == 1):\n",
        "        sp_y_df.op_result[n:i] = 1\n",
        "        n = i\n",
        "    else:\n",
        "        pass\n",
        "print(sp_y_df)    "
      ],
      "execution_count": 116,
      "outputs": [
        {
          "output_type": "stream",
          "text": [
            "        op_start  op_end  op_result\n",
            "108281         1       0          1\n",
            "108282         1       0          1\n",
            "108283         1       0          1\n",
            "108284         1       0          1\n",
            "108285         1       0          1\n",
            "...          ...     ...        ...\n",
            "429891         1       0          1\n",
            "429892         1       0          1\n",
            "429893         1       0          1\n",
            "429894         1       0          1\n",
            "429895         0       1          1\n",
            "\n",
            "[206043 rows x 3 columns]\n"
          ],
          "name": "stdout"
        }
      ]
    },
    {
      "cell_type": "code",
      "metadata": {
        "id": "MUZR3Hbt07pg",
        "colab_type": "code",
        "colab": {}
      },
      "source": [
        "## train data 정규화 및 train set / test set 분할\n",
        "\n",
        "sp_x_df.shape\n",
        "train_num = int(sp_x_df.shape[0] * 0.7)\n",
        "\n",
        "scaler = MinMaxScaler()\n",
        "\n",
        "x_train = scaler.fit_transform(sp_x_df[:train_num].values)\n",
        "x_test = scaler.fit_transform(sp_x_df[train_num:].values)\n",
        "y_train = sp_y_df[\"op_result\"][:train_num].values.reshape([-1,1])\n",
        "y_test = sp_y_df[\"op_result\"][train_num:].values.reshape([-1,1])\n",
        "y_train.shape\n",
        "x_pre = scaler.fit_transform(pp_x_df.values)"
      ],
      "execution_count": 0,
      "outputs": []
    },
    {
      "cell_type": "code",
      "metadata": {
        "id": "pDas8z-zQmw6",
        "colab_type": "code",
        "colab": {}
      },
      "source": [
        "# placeholer / reset\n",
        "tf.reset_default_graph()\n",
        "X = tf.placeholder(shape=[None,23], dtype=tf.float32)\n",
        "Y = tf.placeholder(shape=[None,1], dtype=tf.float32)\n",
        "drop_rate = tf.placeholder(dtype=tf.float32)\n",
        "\n",
        "W1 = tf.get_variable(\"weight1\", shape=[23,100],\n",
        "                     initializer=tf.contrib.layers.xavier_initializer())\n",
        "b1 = tf.Variable(tf.random_normal([100]), name=\"bias1\")\n",
        "L1 = tf.sigmoid(tf.matmul(X, W1)+b1)\n",
        "\n",
        "W2 = tf.get_variable(\"weight2\", shape=[100,100],\n",
        "                     initializer=tf.contrib.layers.xavier_initializer())\n",
        "b2 = tf.Variable(tf.random_normal([100]), name=\"bias2\")\n",
        "L2 = tf.sigmoid(tf.matmul(L1, W2)+b2)\n",
        "\n",
        "W3 = tf.get_variable(\"weight3\", shape=[100,1],\n",
        "                     initializer=tf.contrib.layers.xavier_initializer())\n",
        "b3 = tf.Variable(tf.random_normal([1]), name=\"bias3\")\n",
        "\n",
        "# L4 = tf.nn.relu(tf.matmul(L3, W4)+b4)\n",
        "logit = tf.matmul(L2, W3)+b3\n",
        "\n",
        "H = tf.sigmoid(logit)\n",
        "\n",
        "cost = tf.reduce_mean(tf.nn.sigmoid_cross_entropy_with_logits(logits = logit,\n",
        "                                                             labels = Y))\n",
        "\n",
        "train = tf.train.AdamOptimizer(learning_rate=0.001).minimize(cost)\n",
        "\n",
        "\n",
        "sess = tf.Session()\n",
        "sess.run(tf.global_variables_initializer())"
      ],
      "execution_count": 0,
      "outputs": []
    },
    {
      "cell_type": "code",
      "metadata": {
        "id": "btPH9lAou4J2",
        "colab_type": "code",
        "outputId": "cefe2b0d-d07b-4867-ec41-2083af712a01",
        "colab": {
          "base_uri": "https://localhost:8080/",
          "height": 210
        }
      },
      "source": [
        "for step in range(3000):\n",
        "    _, cost_val = sess.run([train, cost], feed_dict={ X : x_train,\n",
        "                                                        Y : y_train})\n",
        "    if step % 300 == 0:\n",
        "        print(f\"Cost 값은 : {cost_val}\")\n",
        "        \n",
        "        \n",
        "predict = tf.cast(H > 0.5, dtype=tf.float32)\n",
        "correct = tf.equal(predict, Y)\n",
        "accuracy = tf.reduce_mean(tf.cast(correct, dtype=tf.float32))\n",
        "print(\"정확도 : {}\".format(sess.run(accuracy, feed_dict={X: x_test,\n",
        "                                                        Y : y_test})))"
      ],
      "execution_count": 119,
      "outputs": [
        {
          "output_type": "stream",
          "text": [
            "Cost 값은 : 1.072007417678833\n",
            "Cost 값은 : 0.020495368167757988\n",
            "Cost 값은 : 0.02038237266242504\n",
            "Cost 값은 : 0.020319107919931412\n",
            "Cost 값은 : 0.020232681185007095\n",
            "Cost 값은 : 0.020112425088882446\n",
            "Cost 값은 : 0.019953615963459015\n",
            "Cost 값은 : 0.019785946235060692\n",
            "Cost 값은 : 0.0196489579975605\n",
            "Cost 값은 : 0.01954224891960621\n",
            "정확도 : 0.9903903603553772\n"
          ],
          "name": "stdout"
        }
      ]
    },
    {
      "cell_type": "code",
      "metadata": {
        "id": "Wps_f4zW34-n",
        "colab_type": "code",
        "colab": {
          "base_uri": "https://localhost:8080/",
          "height": 175
        },
        "outputId": "156bbace-b58b-4d6b-d7c1-9184a2185179"
      },
      "source": [
        "predict = tf.cast(H > 0.5, dtype=tf.float32)\n",
        "\n",
        "print(f\"정확도 : {sess.run(predict,feed_dict={X : pp_x_df.iloc[:,1:]})}\")\n",
        "result = pd.DataFrame(sess.run(predict,feed_dict={X : pp_x_df.iloc[:,1:]}))\n",
        "result.sum()"
      ],
      "execution_count": 150,
      "outputs": [
        {
          "output_type": "stream",
          "text": [
            "정확도 : [[1.]\n",
            " [1.]\n",
            " [1.]\n",
            " ...\n",
            " [1.]\n",
            " [1.]\n",
            " [1.]]\n"
          ],
          "name": "stdout"
        },
        {
          "output_type": "execute_result",
          "data": {
            "text/plain": [
              "0    84248.0\n",
              "dtype: float32"
            ]
          },
          "metadata": {
            "tags": []
          },
          "execution_count": 150
        }
      ]
    },
    {
      "cell_type": "code",
      "metadata": {
        "id": "xcAyELw6YXXV",
        "colab_type": "code",
        "colab": {
          "base_uri": "https://localhost:8080/",
          "height": 34
        },
        "outputId": "79ca1744-f380-45ba-a4f6-042392d5bd18"
      },
      "source": [
        "pp_x_df[\"d15\"] = result\n",
        "pp_x_df.loc[:,[\"seq\",\"d15\"]]\n",
        "pp_x_df[\"d15\"].sum()"
      ],
      "execution_count": 149,
      "outputs": [
        {
          "output_type": "execute_result",
          "data": {
            "text/plain": [
              "66719.0"
            ]
          },
          "metadata": {
            "tags": []
          },
          "execution_count": 149
        }
      ]
    },
    {
      "cell_type": "markdown",
      "metadata": {
        "id": "_aUG35ZqVDIR",
        "colab_type": "text"
      },
      "source": [
        "# 모델 검증을 위한 k-fold cross validation 실시"
      ]
    },
    {
      "cell_type": "code",
      "metadata": {
        "id": "bKPvYXSMvsRb",
        "colab_type": "code",
        "colab": {
          "base_uri": "https://localhost:8080/",
          "height": 122
        },
        "outputId": "290fffa4-85c4-4678-fd72-045446544dce"
      },
      "source": [
        "from sklearn.model_selection import cross_val_score, KFold, StratifiedShuffleSplit\n",
        "from sklearn.linear_model import LogisticRegression\n",
        "\n",
        "import warnings\n",
        "\n",
        "warnings.simplefilter(\"ignore\")\n",
        "\n",
        "kfold = KFold(n_splits=10)\n",
        "stratified_shuffle_split = StratifiedShuffleSplit(train_size=0.7,test_size=0.3,n_splits=10,random_state=0)\n",
        "\n",
        "logreg = LogisticRegression()\n",
        "\n",
        "scores = cross_val_score(logreg, x_train, y_train)\n",
        "print(\"k-5 cross validation score : {}\".format(scores))\n",
        "\n",
        "scores_k10 = cross_val_score(logreg, x_train, y_train, cv=kfold)\n",
        "print(\"k-10 cross validation score : {}\".format(scores_k10))\n",
        "\n",
        "print(\"k-fold cross validation mean score : {}\".format(scores.mean()))\n",
        "\n",
        "scores_shuffle = cross_val_score(logreg, x_train, y_train, cv=stratified_shuffle_split)\n",
        "print(\"shuffle cross validation score : {}\".format(scores_shuffle))"
      ],
      "execution_count": 110,
      "outputs": [
        {
          "output_type": "stream",
          "text": [
            "k-5 cross validation score : [0.99701865 0.99701865 0.99701865 0.99701865 0.99698398]\n",
            "k-10 cross validation score : [0.99611731 0.99486931 1.         0.98966928 0.99604798 1.\n",
            " 1.         0.99604798 0.99868266 0.99868266]\n",
            "k-fold cross validation mean score : 0.9970117173958262\n",
            "shuffle cross validation score : [0.99701865 0.99701865 0.99701865 0.99701865 0.99701865 0.99701865\n",
            " 0.99701865 0.99701865 0.99701865 0.99701865]\n"
          ],
          "name": "stdout"
        }
      ]
    },
    {
      "cell_type": "markdown",
      "metadata": {
        "id": "wDjbjXq8wiZP",
        "colab_type": "text"
      },
      "source": [
        "# layer 추가해서 다시 모델 만들기"
      ]
    },
    {
      "cell_type": "code",
      "metadata": {
        "id": "vYKmSr_ww9Vd",
        "colab_type": "code",
        "colab": {}
      },
      "source": [
        "a_train_set[\"new\"] = 0\n",
        "a_train_set.loc[a_train_set[\"op_start\"]==1,\"new\"] = 1\n",
        "a_train_set.loc[a_train_set[\"op_end\"]==1,\"new\"] = 2\n",
        "a_train_set.loc[a_train_set[\"op_result\"]==1,\"new\"] = 3\n",
        "\n",
        "\n",
        "new_y_val = pd.get_dummies(a_train_set[\"new\"])\n",
        "\n",
        "x_train_data = a_train_set.iloc[:,24:47]\n",
        "y_train_data = new_y_val"
      ],
      "execution_count": 0,
      "outputs": []
    },
    {
      "cell_type": "code",
      "metadata": {
        "id": "oFZTdXSvwqp7",
        "colab_type": "code",
        "colab": {}
      },
      "source": [
        "x_train_data.shape\n",
        "train_num = int(x_train_data.shape[0] * 0.8)\n",
        "\n",
        "scaler = MinMaxScaler()\n",
        "\n",
        "x_train = scaler.fit_transform(x_train_data[:train_num].values)\n",
        "x_test = scaler.fit_transform(x_train_data[train_num:].values)\n",
        "y_train = y_train_data[:train_num].values.reshape([-1,1])\n",
        "y_test = y_train_data[train_num:].values.reshape([-1,1])\n",
        "\n"
      ],
      "execution_count": 0,
      "outputs": []
    },
    {
      "cell_type": "code",
      "metadata": {
        "id": "K65f7e5bxhBq",
        "colab_type": "code",
        "colab": {}
      },
      "source": [
        "\n",
        "1\n",
        "# Data loading\n",
        "# 전처리 단계 (결측치, 이상치, 정규화, feature engineering)\n",
        "\n",
        "\n",
        "# Model 정의\n",
        "tf.reset_default_graph()\n",
        "\n",
        "# 1. placeholder\n",
        "X = tf.placeholder(shape=[None, 23], dtype=tf.float32)\n",
        "Y = tf.placeholder(shape=[None, 1], dtype=tf.float32)\n",
        "# dropout_rate = tf.placeholder(dtype=tf.float32)\n",
        "\n",
        "\n",
        "# Weight & bias 1\n",
        "W1 = tf.Variable(tf.random_normal([23,100]),name=\"weight1\")\n",
        "b1 = tf.Variable(tf.random_normal([100]),name=\"bias1\")\n",
        "layer1 = tf.sigmoid(tf.matmul(X,W1)+b1)\n",
        "\n",
        "# Weight & bias 2\n",
        "W2 = tf.Variable(tf.random_normal([100,256]),name=\"weight2\")\n",
        "b2 = tf.Variable(tf.random_normal([256]),name=\"bias2\")\n",
        "layer2 = tf.sigmoid(tf.matmul(layer1,W2)+b2)\n",
        "\n",
        "# Weight & bias 3\n",
        "W3 = tf.Variable(tf.random_normal([256,1]),name=\"weight3\")\n",
        "b3 = tf.Variable(tf.random_normal([1]),name=\"bias3\")\n",
        "\n",
        "# Hypothesis\n",
        "logit = tf.matmul(layer2, W3) + b3\n",
        "H = tf.sigmoid(logit)\n",
        "\n",
        "# cost function\n",
        "# cost = tf.losses.softmax_cross_entropy(Y, H) # 순서가 바뀐다\n",
        "cost = tf.reduce_mean(tf.nn.softmax_cross_entropy_with_logits_v2(logits = logit,\n",
        "                                                                   labels = Y))\n",
        "\n",
        "#\n",
        "train = tf.train.AdamOptimizer(learning_rate=0.01).minimize(cost)\n",
        "\n",
        "#\n",
        "sess = tf.Session()\n",
        "sess.run(tf.global_variables_initializer())\n"
      ],
      "execution_count": 0,
      "outputs": []
    },
    {
      "cell_type": "code",
      "metadata": {
        "id": "dK0xRE0OxiYd",
        "colab_type": "code",
        "colab": {}
      },
      "source": [
        "\n",
        "for step in range(3000):\n",
        "    _, cost_val = sess.run([train, cost], feed_dict={X : x_train,\n",
        "                                                       Y : y_train})\n",
        "    if step % 300 == 0:\n",
        "        print(f\"Cost값은 : {cost_val}\")"
      ],
      "execution_count": 0,
      "outputs": []
    },
    {
      "cell_type": "code",
      "metadata": {
        "id": "LTNTZVtWyGFx",
        "colab_type": "code",
        "colab": {
          "base_uri": "https://localhost:8080/",
          "height": 34
        },
        "outputId": "ade391f7-8254-47cd-8c06-5fa00c4199a2"
      },
      "source": [
        "predict = tf.argmax(H, 1)\n",
        "correct = tf.equal(predict, tf.argmax(Y, 1))\n",
        "accuracy = tf.reduce_mean(tf.cast(correct, dtype = tf.float32))\n",
        "print(\"정확도는 : {}\".format(sess.run(accuracy, feed_dict={X : x_test,\n",
        "                                                          Y : y_test})))"
      ],
      "execution_count": 64,
      "outputs": [
        {
          "output_type": "stream",
          "text": [
            "정확도는 : 1.0\n"
          ],
          "name": "stdout"
        }
      ]
    }
  ]
}